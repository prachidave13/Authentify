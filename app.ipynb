{
 "cells": [
  {
   "cell_type": "code",
   "execution_count": 16,
   "metadata": {},
   "outputs": [
    {
     "name": "stderr",
     "output_type": "stream",
     "text": [
      "WARNING:absl:Compiled the loaded model, but the compiled metrics have yet to be built. `model.compile_metrics` will be empty until you train or evaluate the model.\n",
      "WARNING:absl:Error in loading the saved optimizer state. As a result, your model is starting with a freshly initialized optimizer.\n"
     ]
    },
    {
     "name": "stdout",
     "output_type": "stream",
     "text": [
      " * Serving Flask app '__main__'\n",
      " * Debug mode: off\n"
     ]
    },
    {
     "name": "stderr",
     "output_type": "stream",
     "text": [
      "INFO:werkzeug:\u001b[31m\u001b[1mWARNING: This is a development server. Do not use it in a production deployment. Use a production WSGI server instead.\u001b[0m\n",
      " * Running on http://127.0.0.1:5000\n",
      "INFO:werkzeug:\u001b[33mPress CTRL+C to quit\u001b[0m\n",
      "INFO:werkzeug:127.0.0.1 - - [21/Mar/2024 16:25:59] \"GET / HTTP/1.1\" 200 -\n"
     ]
    },
    {
     "name": "stdout",
     "output_type": "stream",
     "text": [
      "\u001b[1m1/1\u001b[0m \u001b[32m━━━━━━━━━━━━━━━━━━━━\u001b[0m\u001b[37m\u001b[0m \u001b[1m0s\u001b[0m 57ms/step\n"
     ]
    },
    {
     "name": "stderr",
     "output_type": "stream",
     "text": [
      "INFO:werkzeug:127.0.0.1 - - [21/Mar/2024 16:26:03] \"POST /classify HTTP/1.1\" 200 -\n"
     ]
    }
   ],
   "source": [
    "import os\n",
    "from flask import Flask, request, render_template\n",
    "import numpy as np\n",
    "from keras.models import load_model\n",
    "from keras.preprocessing.image import load_img, img_to_array\n",
    "from keras.applications.inception_v3 import preprocess_input\n",
    "\n",
    "# Initialize Flask app\n",
    "app = Flask(__name__)\n",
    "\n",
    "# Load the trained discriminator model\n",
    "model_path = 'FINAL_discriminator_model.h5'\n",
    "if not os.path.exists(model_path):\n",
    "    print(f\"Error: Model file '{model_path}' not found.\")\n",
    "    exit(1)\n",
    "\n",
    "try:\n",
    "    discriminator_model = load_model(model_path)\n",
    "except Exception as e:\n",
    "    print(f\"Error loading model: {str(e)}\")\n",
    "    exit(1)\n",
    "\n",
    "# Define a function to classify image\n",
    "def classify_image(image_path, model):\n",
    "    try:\n",
    "        # Load and preprocess the input image\n",
    "        img = load_img(image_path, target_size=(64, 64))\n",
    "        img_array = img_to_array(img)\n",
    "        img_array = preprocess_input(img_array)\n",
    "        img_array = np.expand_dims(img_array, axis=0)\n",
    "\n",
    "        # Predict using the discriminator model\n",
    "        prediction = model.predict(img_array)\n",
    "\n",
    "        # Interpret the prediction result\n",
    "        if prediction[0][0] > 0.5:\n",
    "            result = \"REAL\"\n",
    "        else:\n",
    "            result = \"FAKE\"\n",
    "\n",
    "        return result\n",
    "    except Exception as e:\n",
    "        return str(e)\n",
    "\n",
    "# Define route for the homepage\n",
    "@app.route('/')\n",
    "def home():\n",
    "    return render_template('index.html')\n",
    "\n",
    "# Define route to handle image classification\n",
    "@app.route('/classify', methods=['POST'])\n",
    "def classify():\n",
    "    try:\n",
    "        if request.method == 'POST':\n",
    "            # Get the file from the POST request\n",
    "            file = request.files['file']\n",
    "\n",
    "            if file.filename == '':\n",
    "                return render_template('result.html', result=\"No file selected.\")\n",
    "\n",
    "            # Save the file to the uploads folder\n",
    "            file_path = os.path.join('uploads', file.filename)\n",
    "            file.save(file_path)\n",
    "\n",
    "            # Classify the uploaded image\n",
    "            classification_result = classify_image(file_path, discriminator_model)\n",
    "\n",
    "            return render_template('result.html', result=classification_result)\n",
    "    except Exception as e:\n",
    "        return render_template('result.html', result=str(e))\n",
    "\n",
    "if __name__ == '__main__':\n",
    "    app.run()\n"
   ]
  },
  {
   "cell_type": "code",
   "execution_count": null,
   "metadata": {},
   "outputs": [],
   "source": []
  }
 ],
 "metadata": {
  "kernelspec": {
   "display_name": "Python 3",
   "language": "python",
   "name": "python3"
  },
  "language_info": {
   "codemirror_mode": {
    "name": "ipython",
    "version": 3
   },
   "file_extension": ".py",
   "mimetype": "text/x-python",
   "name": "python",
   "nbconvert_exporter": "python",
   "pygments_lexer": "ipython3",
   "version": "3.11.4"
  }
 },
 "nbformat": 4,
 "nbformat_minor": 2
}
